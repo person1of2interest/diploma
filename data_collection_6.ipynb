{
 "cells": [
  {
   "cell_type": "markdown",
   "id": "1d91b7ec",
   "metadata": {},
   "source": [
    "## Сборка датасета (коды вместо описаний концепций; делю не по визитам, а по возрасту пациентов)"
   ]
  },
  {
   "cell_type": "markdown",
   "id": "c4ae675d",
   "metadata": {},
   "source": [
    "Данные взяты из Synthea Dataset - EHR, использую 'conditions.csv' с результатами посещения врачей (диагнозы, временные метки) и 'patients.csv' с информацией о пациентах (дата рождения)\n",
    "\n",
    "Сгенерировала выборку из 10000 человек с параметрами по умолчанию (seed=43, размер и параметры можно задать другими)"
   ]
  },
  {
   "cell_type": "code",
   "execution_count": 1,
   "id": "f753a293",
   "metadata": {},
   "outputs": [],
   "source": [
    "import pandas as pd\n",
    "import numpy as np\n",
    "import math"
   ]
  },
  {
   "cell_type": "code",
   "execution_count": 2,
   "id": "ad9c4489",
   "metadata": {},
   "outputs": [],
   "source": [
    "path = \"../synthea/conditions.csv\"\n",
    "data = pd.read_csv(path)"
   ]
  },
  {
   "cell_type": "markdown",
   "id": "d844642d",
   "metadata": {},
   "source": [
    "Всего присутствует 280 концепций:"
   ]
  },
  {
   "cell_type": "code",
   "execution_count": 3,
   "id": "4705b3de",
   "metadata": {},
   "outputs": [
    {
     "data": {
      "text/plain": [
       "280"
      ]
     },
     "execution_count": 3,
     "metadata": {},
     "output_type": "execute_result"
    }
   ],
   "source": [
    "len(data['DESCRIPTION'].unique())"
   ]
  },
  {
   "cell_type": "markdown",
   "id": "d12f719d",
   "metadata": {},
   "source": [
    "Кроме диагнозов встречаются концепции, которые обозначают ситуации (например, 'ожидает пересадки почки') и обнаруженные факты ('безработный', 'вовлечён в деятельность, связанную с риском'),  их (not_deseases) из общего списка я удалила"
   ]
  },
  {
   "cell_type": "code",
   "execution_count": 4,
   "id": "e4f8ab4b",
   "metadata": {},
   "outputs": [],
   "source": [
    "# concepts = set(data['DESCRIPTION'])\n",
    "# situations = set()\n",
    "\n",
    "# for c in concepts:\n",
    "#     if c.find('situation')!=-1:\n",
    "#         situations.add(c)\n",
    "        \n",
    "# print(situations)"
   ]
  },
  {
   "cell_type": "code",
   "execution_count": 5,
   "id": "4dda6903-83d4-4a48-8271-9547a3364c55",
   "metadata": {},
   "outputs": [],
   "source": [
    "concepts = set(data['DESCRIPTION'])\n",
    "disorders = set()\n",
    "\n",
    "for c in concepts:\n",
    "    if c.find('disorder')!=-1:\n",
    "        disorders.add(c)"
   ]
  },
  {
   "cell_type": "code",
   "execution_count": 6,
   "id": "c830cd40",
   "metadata": {
    "scrolled": true
   },
   "outputs": [
    {
     "data": {
      "text/html": [
       "<div>\n",
       "<style scoped>\n",
       "    .dataframe tbody tr th:only-of-type {\n",
       "        vertical-align: middle;\n",
       "    }\n",
       "\n",
       "    .dataframe tbody tr th {\n",
       "        vertical-align: top;\n",
       "    }\n",
       "\n",
       "    .dataframe thead th {\n",
       "        text-align: right;\n",
       "    }\n",
       "</style>\n",
       "<table border=\"1\" class=\"dataframe\">\n",
       "  <thead>\n",
       "    <tr style=\"text-align: right;\">\n",
       "      <th></th>\n",
       "      <th>START</th>\n",
       "      <th>STOP</th>\n",
       "      <th>PATIENT</th>\n",
       "      <th>ENCOUNTER</th>\n",
       "      <th>CODE</th>\n",
       "      <th>DESCRIPTION</th>\n",
       "    </tr>\n",
       "  </thead>\n",
       "  <tbody>\n",
       "    <tr>\n",
       "      <th>1</th>\n",
       "      <td>2014-02-07</td>\n",
       "      <td>2014-02-19</td>\n",
       "      <td>045937c3-b043-1c0c-e6b1-a2b94b465dd2</td>\n",
       "      <td>6c96593e-74c1-1361-c56a-eed1f4ea9af8</td>\n",
       "      <td>195662009</td>\n",
       "      <td>Acute viral pharyngitis (disorder)</td>\n",
       "    </tr>\n",
       "    <tr>\n",
       "      <th>6</th>\n",
       "      <td>2019-09-08</td>\n",
       "      <td>2019-09-20</td>\n",
       "      <td>045937c3-b043-1c0c-e6b1-a2b94b465dd2</td>\n",
       "      <td>2b087075-f9ad-71c2-820c-968fa6c29336</td>\n",
       "      <td>10509002</td>\n",
       "      <td>Acute bronchitis (disorder)</td>\n",
       "    </tr>\n",
       "    <tr>\n",
       "      <th>9</th>\n",
       "      <td>2021-02-07</td>\n",
       "      <td>2021-03-06</td>\n",
       "      <td>045937c3-b043-1c0c-e6b1-a2b94b465dd2</td>\n",
       "      <td>981c2bfe-4d2a-b223-67d1-13f11ff2d887</td>\n",
       "      <td>444814009</td>\n",
       "      <td>Viral sinusitis (disorder)</td>\n",
       "    </tr>\n",
       "    <tr>\n",
       "      <th>12</th>\n",
       "      <td>2015-07-05</td>\n",
       "      <td>2015-07-27</td>\n",
       "      <td>5509bed5-d067-5968-6a46-9ddc627d0919</td>\n",
       "      <td>71aac2b5-39a3-d8eb-3feb-ec40c98954a7</td>\n",
       "      <td>444814009</td>\n",
       "      <td>Viral sinusitis (disorder)</td>\n",
       "    </tr>\n",
       "    <tr>\n",
       "      <th>13</th>\n",
       "      <td>2016-03-06</td>\n",
       "      <td>2016-03-16</td>\n",
       "      <td>5509bed5-d067-5968-6a46-9ddc627d0919</td>\n",
       "      <td>93009227-a804-5826-bfd4-a7951b92e3eb</td>\n",
       "      <td>195662009</td>\n",
       "      <td>Acute viral pharyngitis (disorder)</td>\n",
       "    </tr>\n",
       "  </tbody>\n",
       "</table>\n",
       "</div>"
      ],
      "text/plain": [
       "         START        STOP                               PATIENT  \\\n",
       "1   2014-02-07  2014-02-19  045937c3-b043-1c0c-e6b1-a2b94b465dd2   \n",
       "6   2019-09-08  2019-09-20  045937c3-b043-1c0c-e6b1-a2b94b465dd2   \n",
       "9   2021-02-07  2021-03-06  045937c3-b043-1c0c-e6b1-a2b94b465dd2   \n",
       "12  2015-07-05  2015-07-27  5509bed5-d067-5968-6a46-9ddc627d0919   \n",
       "13  2016-03-06  2016-03-16  5509bed5-d067-5968-6a46-9ddc627d0919   \n",
       "\n",
       "                               ENCOUNTER       CODE  \\\n",
       "1   6c96593e-74c1-1361-c56a-eed1f4ea9af8  195662009   \n",
       "6   2b087075-f9ad-71c2-820c-968fa6c29336   10509002   \n",
       "9   981c2bfe-4d2a-b223-67d1-13f11ff2d887  444814009   \n",
       "12  71aac2b5-39a3-d8eb-3feb-ec40c98954a7  444814009   \n",
       "13  93009227-a804-5826-bfd4-a7951b92e3eb  195662009   \n",
       "\n",
       "                           DESCRIPTION  \n",
       "1   Acute viral pharyngitis (disorder)  \n",
       "6          Acute bronchitis (disorder)  \n",
       "9           Viral sinusitis (disorder)  \n",
       "12          Viral sinusitis (disorder)  \n",
       "13  Acute viral pharyngitis (disorder)  "
      ]
     },
     "execution_count": 6,
     "metadata": {},
     "output_type": "execute_result"
    }
   ],
   "source": [
    "# not_deseases = {'Medication review due (situation)', \n",
    "#                 'Received higher education (finding)', \n",
    "#                 'Unemployed (finding)',\n",
    "#                 'Part-time employment (finding)',\n",
    "#                 'Full-time employment (finding)',\n",
    "#                 'Received certificate of high school equivalency (finding)'}\n",
    "\n",
    "data = data[data['DESCRIPTION'].isin(disorders)]\n",
    "data.head()"
   ]
  },
  {
   "cell_type": "code",
   "execution_count": 7,
   "id": "8d514504-6092-46c5-b53d-8a17bb44f07e",
   "metadata": {},
   "outputs": [
    {
     "data": {
      "text/plain": [
       "(70415, 6)"
      ]
     },
     "execution_count": 7,
     "metadata": {},
     "output_type": "execute_result"
    }
   ],
   "source": [
    "data.shape"
   ]
  },
  {
   "cell_type": "markdown",
   "id": "f1d5e092",
   "metadata": {},
   "source": [
    "Как и авторы оригинальной статьи ([BEHRT: Transformer for Electronic Health Records](https://arxiv.org/pdf/1907.09538.pdf)), оставляю только тех пациентов, на которых есть хотя бы 5 записей (минимальное количество, чтобы можно было делать какие-то прогнозы) "
   ]
  },
  {
   "cell_type": "code",
   "execution_count": 8,
   "id": "addb2724",
   "metadata": {
    "scrolled": true
   },
   "outputs": [
    {
     "data": {
      "text/html": [
       "<div>\n",
       "<style scoped>\n",
       "    .dataframe tbody tr th:only-of-type {\n",
       "        vertical-align: middle;\n",
       "    }\n",
       "\n",
       "    .dataframe tbody tr th {\n",
       "        vertical-align: top;\n",
       "    }\n",
       "\n",
       "    .dataframe thead th {\n",
       "        text-align: right;\n",
       "    }\n",
       "</style>\n",
       "<table border=\"1\" class=\"dataframe\">\n",
       "  <thead>\n",
       "    <tr style=\"text-align: right;\">\n",
       "      <th></th>\n",
       "      <th>START</th>\n",
       "      <th>STOP</th>\n",
       "      <th>PATIENT</th>\n",
       "      <th>ENCOUNTER</th>\n",
       "      <th>CODE</th>\n",
       "      <th>DESCRIPTION</th>\n",
       "    </tr>\n",
       "  </thead>\n",
       "  <tbody>\n",
       "    <tr>\n",
       "      <th>58</th>\n",
       "      <td>2015-03-22</td>\n",
       "      <td>2015-03-30</td>\n",
       "      <td>5eb0459d-b43c-be02-9ef0-e156e2077c91</td>\n",
       "      <td>6a2ed7c6-154e-7a2f-510b-eeecbdf6aaed</td>\n",
       "      <td>195662009</td>\n",
       "      <td>Acute viral pharyngitis (disorder)</td>\n",
       "    </tr>\n",
       "    <tr>\n",
       "      <th>61</th>\n",
       "      <td>2016-07-19</td>\n",
       "      <td>2016-08-03</td>\n",
       "      <td>5eb0459d-b43c-be02-9ef0-e156e2077c91</td>\n",
       "      <td>25a22618-9d0a-7b71-6013-07ffc2c72fd6</td>\n",
       "      <td>10509002</td>\n",
       "      <td>Acute bronchitis (disorder)</td>\n",
       "    </tr>\n",
       "    <tr>\n",
       "      <th>71</th>\n",
       "      <td>2019-12-18</td>\n",
       "      <td>2020-01-03</td>\n",
       "      <td>5eb0459d-b43c-be02-9ef0-e156e2077c91</td>\n",
       "      <td>ba51fa57-da42-cdac-6aef-5608e7668f01</td>\n",
       "      <td>444814009</td>\n",
       "      <td>Viral sinusitis (disorder)</td>\n",
       "    </tr>\n",
       "    <tr>\n",
       "      <th>75</th>\n",
       "      <td>2021-11-18</td>\n",
       "      <td>2021-12-02</td>\n",
       "      <td>5eb0459d-b43c-be02-9ef0-e156e2077c91</td>\n",
       "      <td>22386ef8-1936-3209-a0f9-043e7fcb4b3a</td>\n",
       "      <td>312608009</td>\n",
       "      <td>Laceration - injury (disorder)</td>\n",
       "    </tr>\n",
       "    <tr>\n",
       "      <th>77</th>\n",
       "      <td>2022-01-31</td>\n",
       "      <td>2022-02-01</td>\n",
       "      <td>5eb0459d-b43c-be02-9ef0-e156e2077c91</td>\n",
       "      <td>22386ef8-1936-3209-a0f9-043e7fcb4b3a</td>\n",
       "      <td>307426000</td>\n",
       "      <td>Acute infective cystitis (disorder)</td>\n",
       "    </tr>\n",
       "  </tbody>\n",
       "</table>\n",
       "</div>"
      ],
      "text/plain": [
       "         START        STOP                               PATIENT  \\\n",
       "58  2015-03-22  2015-03-30  5eb0459d-b43c-be02-9ef0-e156e2077c91   \n",
       "61  2016-07-19  2016-08-03  5eb0459d-b43c-be02-9ef0-e156e2077c91   \n",
       "71  2019-12-18  2020-01-03  5eb0459d-b43c-be02-9ef0-e156e2077c91   \n",
       "75  2021-11-18  2021-12-02  5eb0459d-b43c-be02-9ef0-e156e2077c91   \n",
       "77  2022-01-31  2022-02-01  5eb0459d-b43c-be02-9ef0-e156e2077c91   \n",
       "\n",
       "                               ENCOUNTER       CODE  \\\n",
       "58  6a2ed7c6-154e-7a2f-510b-eeecbdf6aaed  195662009   \n",
       "61  25a22618-9d0a-7b71-6013-07ffc2c72fd6   10509002   \n",
       "71  ba51fa57-da42-cdac-6aef-5608e7668f01  444814009   \n",
       "75  22386ef8-1936-3209-a0f9-043e7fcb4b3a  312608009   \n",
       "77  22386ef8-1936-3209-a0f9-043e7fcb4b3a  307426000   \n",
       "\n",
       "                            DESCRIPTION  \n",
       "58   Acute viral pharyngitis (disorder)  \n",
       "61          Acute bronchitis (disorder)  \n",
       "71           Viral sinusitis (disorder)  \n",
       "75       Laceration - injury (disorder)  \n",
       "77  Acute infective cystitis (disorder)  "
      ]
     },
     "execution_count": 8,
     "metadata": {},
     "output_type": "execute_result"
    }
   ],
   "source": [
    "u = data.groupby('PATIENT').count()['CODE']>=5\n",
    "data = data[data['PATIENT'].isin(u[u==True].keys())]\n",
    "data.head()"
   ]
  },
  {
   "cell_type": "markdown",
   "id": "e0a4aad7",
   "metadata": {},
   "source": [
    "В таблице с пациентами интересуют только колонки с индивидуальным идентификатором и датой рождения"
   ]
  },
  {
   "cell_type": "code",
   "execution_count": 9,
   "id": "d00bf7d8",
   "metadata": {},
   "outputs": [],
   "source": [
    "path2 = \"../synthea/patients.csv\"\n",
    "patients = pd.read_csv(path2)"
   ]
  },
  {
   "cell_type": "code",
   "execution_count": 10,
   "id": "2cb52d69",
   "metadata": {},
   "outputs": [
    {
     "data": {
      "text/html": [
       "<div>\n",
       "<style scoped>\n",
       "    .dataframe tbody tr th:only-of-type {\n",
       "        vertical-align: middle;\n",
       "    }\n",
       "\n",
       "    .dataframe tbody tr th {\n",
       "        vertical-align: top;\n",
       "    }\n",
       "\n",
       "    .dataframe thead th {\n",
       "        text-align: right;\n",
       "    }\n",
       "</style>\n",
       "<table border=\"1\" class=\"dataframe\">\n",
       "  <thead>\n",
       "    <tr style=\"text-align: right;\">\n",
       "      <th></th>\n",
       "      <th>PATIENT</th>\n",
       "      <th>BIRTHDATE</th>\n",
       "      <th>GENDER</th>\n",
       "    </tr>\n",
       "  </thead>\n",
       "  <tbody>\n",
       "    <tr>\n",
       "      <th>0</th>\n",
       "      <td>045937c3-b043-1c0c-e6b1-a2b94b465dd2</td>\n",
       "      <td>2009-12-28</td>\n",
       "      <td>F</td>\n",
       "    </tr>\n",
       "    <tr>\n",
       "      <th>1</th>\n",
       "      <td>5509bed5-d067-5968-6a46-9ddc627d0919</td>\n",
       "      <td>2000-03-26</td>\n",
       "      <td>F</td>\n",
       "    </tr>\n",
       "    <tr>\n",
       "      <th>2</th>\n",
       "      <td>b59b2212-f90e-7614-d5e1-84d8164d74f3</td>\n",
       "      <td>1967-06-26</td>\n",
       "      <td>M</td>\n",
       "    </tr>\n",
       "    <tr>\n",
       "      <th>3</th>\n",
       "      <td>5eb0459d-b43c-be02-9ef0-e156e2077c91</td>\n",
       "      <td>2001-01-30</td>\n",
       "      <td>F</td>\n",
       "    </tr>\n",
       "    <tr>\n",
       "      <th>4</th>\n",
       "      <td>a0e778e9-cc65-09c5-fefb-09bbb5261925</td>\n",
       "      <td>1962-07-30</td>\n",
       "      <td>M</td>\n",
       "    </tr>\n",
       "  </tbody>\n",
       "</table>\n",
       "</div>"
      ],
      "text/plain": [
       "                                PATIENT   BIRTHDATE GENDER\n",
       "0  045937c3-b043-1c0c-e6b1-a2b94b465dd2  2009-12-28      F\n",
       "1  5509bed5-d067-5968-6a46-9ddc627d0919  2000-03-26      F\n",
       "2  b59b2212-f90e-7614-d5e1-84d8164d74f3  1967-06-26      M\n",
       "3  5eb0459d-b43c-be02-9ef0-e156e2077c91  2001-01-30      F\n",
       "4  a0e778e9-cc65-09c5-fefb-09bbb5261925  1962-07-30      M"
      ]
     },
     "execution_count": 10,
     "metadata": {},
     "output_type": "execute_result"
    }
   ],
   "source": [
    "patients = patients.rename(columns={'Id': 'PATIENT'})\n",
    "patients = patients[['PATIENT', 'BIRTHDATE', 'GENDER']]\n",
    "patients.head()"
   ]
  },
  {
   "cell_type": "markdown",
   "id": "a07b37c4",
   "metadata": {},
   "source": [
    "Объединяю информацию из таблиц patients и data в одну таблицу"
   ]
  },
  {
   "cell_type": "code",
   "execution_count": 11,
   "id": "1a5ae5b8",
   "metadata": {},
   "outputs": [
    {
     "data": {
      "text/html": [
       "<div>\n",
       "<style scoped>\n",
       "    .dataframe tbody tr th:only-of-type {\n",
       "        vertical-align: middle;\n",
       "    }\n",
       "\n",
       "    .dataframe tbody tr th {\n",
       "        vertical-align: top;\n",
       "    }\n",
       "\n",
       "    .dataframe thead th {\n",
       "        text-align: right;\n",
       "    }\n",
       "</style>\n",
       "<table border=\"1\" class=\"dataframe\">\n",
       "  <thead>\n",
       "    <tr style=\"text-align: right;\">\n",
       "      <th></th>\n",
       "      <th>START</th>\n",
       "      <th>PATIENT</th>\n",
       "      <th>CODE</th>\n",
       "      <th>BIRTHDATE</th>\n",
       "      <th>GENDER</th>\n",
       "    </tr>\n",
       "  </thead>\n",
       "  <tbody>\n",
       "    <tr>\n",
       "      <th>0</th>\n",
       "      <td>2015-03-22</td>\n",
       "      <td>5eb0459d-b43c-be02-9ef0-e156e2077c91</td>\n",
       "      <td>195662009</td>\n",
       "      <td>2001-01-30</td>\n",
       "      <td>F</td>\n",
       "    </tr>\n",
       "    <tr>\n",
       "      <th>1</th>\n",
       "      <td>2016-07-19</td>\n",
       "      <td>5eb0459d-b43c-be02-9ef0-e156e2077c91</td>\n",
       "      <td>10509002</td>\n",
       "      <td>2001-01-30</td>\n",
       "      <td>F</td>\n",
       "    </tr>\n",
       "    <tr>\n",
       "      <th>2</th>\n",
       "      <td>2019-12-18</td>\n",
       "      <td>5eb0459d-b43c-be02-9ef0-e156e2077c91</td>\n",
       "      <td>444814009</td>\n",
       "      <td>2001-01-30</td>\n",
       "      <td>F</td>\n",
       "    </tr>\n",
       "    <tr>\n",
       "      <th>3</th>\n",
       "      <td>2021-11-18</td>\n",
       "      <td>5eb0459d-b43c-be02-9ef0-e156e2077c91</td>\n",
       "      <td>312608009</td>\n",
       "      <td>2001-01-30</td>\n",
       "      <td>F</td>\n",
       "    </tr>\n",
       "    <tr>\n",
       "      <th>4</th>\n",
       "      <td>2022-01-31</td>\n",
       "      <td>5eb0459d-b43c-be02-9ef0-e156e2077c91</td>\n",
       "      <td>307426000</td>\n",
       "      <td>2001-01-30</td>\n",
       "      <td>F</td>\n",
       "    </tr>\n",
       "  </tbody>\n",
       "</table>\n",
       "</div>"
      ],
      "text/plain": [
       "        START                               PATIENT       CODE   BIRTHDATE  \\\n",
       "0  2015-03-22  5eb0459d-b43c-be02-9ef0-e156e2077c91  195662009  2001-01-30   \n",
       "1  2016-07-19  5eb0459d-b43c-be02-9ef0-e156e2077c91   10509002  2001-01-30   \n",
       "2  2019-12-18  5eb0459d-b43c-be02-9ef0-e156e2077c91  444814009  2001-01-30   \n",
       "3  2021-11-18  5eb0459d-b43c-be02-9ef0-e156e2077c91  312608009  2001-01-30   \n",
       "4  2022-01-31  5eb0459d-b43c-be02-9ef0-e156e2077c91  307426000  2001-01-30   \n",
       "\n",
       "  GENDER  \n",
       "0      F  \n",
       "1      F  \n",
       "2      F  \n",
       "3      F  \n",
       "4      F  "
      ]
     },
     "execution_count": 11,
     "metadata": {},
     "output_type": "execute_result"
    }
   ],
   "source": [
    "data = data.merge(patients, on='PATIENT')[['START', 'PATIENT', 'CODE', 'BIRTHDATE', 'GENDER']]\n",
    "data.head()"
   ]
  },
  {
   "cell_type": "code",
   "execution_count": 12,
   "id": "f02137e5",
   "metadata": {},
   "outputs": [
    {
     "data": {
      "text/html": [
       "<div>\n",
       "<style scoped>\n",
       "    .dataframe tbody tr th:only-of-type {\n",
       "        vertical-align: middle;\n",
       "    }\n",
       "\n",
       "    .dataframe tbody tr th {\n",
       "        vertical-align: top;\n",
       "    }\n",
       "\n",
       "    .dataframe thead th {\n",
       "        text-align: right;\n",
       "    }\n",
       "</style>\n",
       "<table border=\"1\" class=\"dataframe\">\n",
       "  <thead>\n",
       "    <tr style=\"text-align: right;\">\n",
       "      <th></th>\n",
       "      <th>START</th>\n",
       "      <th>PATIENT</th>\n",
       "      <th>CODE</th>\n",
       "      <th>BIRTHDATE</th>\n",
       "      <th>GENDER</th>\n",
       "    </tr>\n",
       "  </thead>\n",
       "  <tbody>\n",
       "    <tr>\n",
       "      <th>0</th>\n",
       "      <td>2015-03-22</td>\n",
       "      <td>5eb0459d-b43c-be02-9ef0-e156e2077c91</td>\n",
       "      <td>195662009</td>\n",
       "      <td>2001-01-30</td>\n",
       "      <td>F</td>\n",
       "    </tr>\n",
       "    <tr>\n",
       "      <th>1</th>\n",
       "      <td>2016-07-19</td>\n",
       "      <td>5eb0459d-b43c-be02-9ef0-e156e2077c91</td>\n",
       "      <td>10509002</td>\n",
       "      <td>2001-01-30</td>\n",
       "      <td>F</td>\n",
       "    </tr>\n",
       "    <tr>\n",
       "      <th>2</th>\n",
       "      <td>2019-12-18</td>\n",
       "      <td>5eb0459d-b43c-be02-9ef0-e156e2077c91</td>\n",
       "      <td>444814009</td>\n",
       "      <td>2001-01-30</td>\n",
       "      <td>F</td>\n",
       "    </tr>\n",
       "    <tr>\n",
       "      <th>3</th>\n",
       "      <td>2021-11-18</td>\n",
       "      <td>5eb0459d-b43c-be02-9ef0-e156e2077c91</td>\n",
       "      <td>312608009</td>\n",
       "      <td>2001-01-30</td>\n",
       "      <td>F</td>\n",
       "    </tr>\n",
       "    <tr>\n",
       "      <th>4</th>\n",
       "      <td>2022-01-31</td>\n",
       "      <td>5eb0459d-b43c-be02-9ef0-e156e2077c91</td>\n",
       "      <td>307426000</td>\n",
       "      <td>2001-01-30</td>\n",
       "      <td>F</td>\n",
       "    </tr>\n",
       "    <tr>\n",
       "      <th>5</th>\n",
       "      <td>2022-10-21</td>\n",
       "      <td>5eb0459d-b43c-be02-9ef0-e156e2077c91</td>\n",
       "      <td>195662009</td>\n",
       "      <td>2001-01-30</td>\n",
       "      <td>F</td>\n",
       "    </tr>\n",
       "  </tbody>\n",
       "</table>\n",
       "</div>"
      ],
      "text/plain": [
       "        START                               PATIENT       CODE   BIRTHDATE  \\\n",
       "0  2015-03-22  5eb0459d-b43c-be02-9ef0-e156e2077c91  195662009  2001-01-30   \n",
       "1  2016-07-19  5eb0459d-b43c-be02-9ef0-e156e2077c91   10509002  2001-01-30   \n",
       "2  2019-12-18  5eb0459d-b43c-be02-9ef0-e156e2077c91  444814009  2001-01-30   \n",
       "3  2021-11-18  5eb0459d-b43c-be02-9ef0-e156e2077c91  312608009  2001-01-30   \n",
       "4  2022-01-31  5eb0459d-b43c-be02-9ef0-e156e2077c91  307426000  2001-01-30   \n",
       "5  2022-10-21  5eb0459d-b43c-be02-9ef0-e156e2077c91  195662009  2001-01-30   \n",
       "\n",
       "  GENDER  \n",
       "0      F  \n",
       "1      F  \n",
       "2      F  \n",
       "3      F  \n",
       "4      F  \n",
       "5      F  "
      ]
     },
     "execution_count": 12,
     "metadata": {},
     "output_type": "execute_result"
    }
   ],
   "source": [
    "data[data['PATIENT']==\"5eb0459d-b43c-be02-9ef0-e156e2077c91\"]"
   ]
  },
  {
   "cell_type": "markdown",
   "id": "01796599",
   "metadata": {},
   "source": [
    "Колонки с датами перевожу в datetime-формат, чтобы затем посчитать количество прошедших лет (возраст пациента на момент события)"
   ]
  },
  {
   "cell_type": "code",
   "execution_count": 13,
   "id": "29001ca9-803b-4b14-9134-cbc19569700a",
   "metadata": {},
   "outputs": [],
   "source": [
    "#!pip install python-dateutil"
   ]
  },
  {
   "cell_type": "code",
   "execution_count": 14,
   "id": "c9200afd-91c7-4c47-b57f-b325225426e4",
   "metadata": {},
   "outputs": [],
   "source": [
    "from dateutil.relativedelta import relativedelta"
   ]
  },
  {
   "cell_type": "code",
   "execution_count": 15,
   "id": "bf1dfbf1",
   "metadata": {},
   "outputs": [],
   "source": [
    "data['START'] = data['START'].apply(pd.to_datetime)\n",
    "data['BIRTHDATE'] = data['BIRTHDATE'].apply(pd.to_datetime)"
   ]
  },
  {
   "cell_type": "code",
   "execution_count": 16,
   "id": "e3812dd1-38b5-449c-b044-f19336fd213a",
   "metadata": {},
   "outputs": [],
   "source": [
    "data = data.assign(AGE=[relativedelta(data['START'][i], data['BIRTHDATE'][i]).years for i in range(data.shape[0])])"
   ]
  },
  {
   "cell_type": "code",
   "execution_count": 17,
   "id": "5b6f8bef-4c11-4733-a8a7-e4d8fdf3dcb9",
   "metadata": {},
   "outputs": [],
   "source": [
    "data['SEX'] = data['GENDER'].apply(lambda g: 'MALE' if g=='M' else 'FEMALE')"
   ]
  },
  {
   "cell_type": "code",
   "execution_count": 18,
   "id": "f46b0957-2f0f-49dd-b736-2d6ba4557be7",
   "metadata": {},
   "outputs": [
    {
     "data": {
      "text/html": [
       "<div>\n",
       "<style scoped>\n",
       "    .dataframe tbody tr th:only-of-type {\n",
       "        vertical-align: middle;\n",
       "    }\n",
       "\n",
       "    .dataframe tbody tr th {\n",
       "        vertical-align: top;\n",
       "    }\n",
       "\n",
       "    .dataframe thead th {\n",
       "        text-align: right;\n",
       "    }\n",
       "</style>\n",
       "<table border=\"1\" class=\"dataframe\">\n",
       "  <thead>\n",
       "    <tr style=\"text-align: right;\">\n",
       "      <th></th>\n",
       "      <th>START</th>\n",
       "      <th>PATIENT</th>\n",
       "      <th>CODE</th>\n",
       "      <th>BIRTHDATE</th>\n",
       "      <th>AGE</th>\n",
       "      <th>SEX</th>\n",
       "    </tr>\n",
       "  </thead>\n",
       "  <tbody>\n",
       "    <tr>\n",
       "      <th>0</th>\n",
       "      <td>2015-03-22</td>\n",
       "      <td>5eb0459d-b43c-be02-9ef0-e156e2077c91</td>\n",
       "      <td>195662009</td>\n",
       "      <td>2001-01-30</td>\n",
       "      <td>14</td>\n",
       "      <td>FEMALE</td>\n",
       "    </tr>\n",
       "    <tr>\n",
       "      <th>1</th>\n",
       "      <td>2016-07-19</td>\n",
       "      <td>5eb0459d-b43c-be02-9ef0-e156e2077c91</td>\n",
       "      <td>10509002</td>\n",
       "      <td>2001-01-30</td>\n",
       "      <td>15</td>\n",
       "      <td>FEMALE</td>\n",
       "    </tr>\n",
       "    <tr>\n",
       "      <th>2</th>\n",
       "      <td>2019-12-18</td>\n",
       "      <td>5eb0459d-b43c-be02-9ef0-e156e2077c91</td>\n",
       "      <td>444814009</td>\n",
       "      <td>2001-01-30</td>\n",
       "      <td>18</td>\n",
       "      <td>FEMALE</td>\n",
       "    </tr>\n",
       "    <tr>\n",
       "      <th>3</th>\n",
       "      <td>2021-11-18</td>\n",
       "      <td>5eb0459d-b43c-be02-9ef0-e156e2077c91</td>\n",
       "      <td>312608009</td>\n",
       "      <td>2001-01-30</td>\n",
       "      <td>20</td>\n",
       "      <td>FEMALE</td>\n",
       "    </tr>\n",
       "    <tr>\n",
       "      <th>4</th>\n",
       "      <td>2022-01-31</td>\n",
       "      <td>5eb0459d-b43c-be02-9ef0-e156e2077c91</td>\n",
       "      <td>307426000</td>\n",
       "      <td>2001-01-30</td>\n",
       "      <td>21</td>\n",
       "      <td>FEMALE</td>\n",
       "    </tr>\n",
       "    <tr>\n",
       "      <th>...</th>\n",
       "      <td>...</td>\n",
       "      <td>...</td>\n",
       "      <td>...</td>\n",
       "      <td>...</td>\n",
       "      <td>...</td>\n",
       "      <td>...</td>\n",
       "    </tr>\n",
       "    <tr>\n",
       "      <th>57035</th>\n",
       "      <td>2013-01-24</td>\n",
       "      <td>b6abcd53-87ec-be6a-c25f-adb88176b4d1</td>\n",
       "      <td>59621000</td>\n",
       "      <td>1963-01-27</td>\n",
       "      <td>49</td>\n",
       "      <td>FEMALE</td>\n",
       "    </tr>\n",
       "    <tr>\n",
       "      <th>57036</th>\n",
       "      <td>2016-01-01</td>\n",
       "      <td>b6abcd53-87ec-be6a-c25f-adb88176b4d1</td>\n",
       "      <td>125605004</td>\n",
       "      <td>1963-01-27</td>\n",
       "      <td>52</td>\n",
       "      <td>FEMALE</td>\n",
       "    </tr>\n",
       "    <tr>\n",
       "      <th>57037</th>\n",
       "      <td>2016-02-14</td>\n",
       "      <td>b6abcd53-87ec-be6a-c25f-adb88176b4d1</td>\n",
       "      <td>237602007</td>\n",
       "      <td>1963-01-27</td>\n",
       "      <td>53</td>\n",
       "      <td>FEMALE</td>\n",
       "    </tr>\n",
       "    <tr>\n",
       "      <th>57038</th>\n",
       "      <td>2017-04-02</td>\n",
       "      <td>b6abcd53-87ec-be6a-c25f-adb88176b4d1</td>\n",
       "      <td>444814009</td>\n",
       "      <td>1963-01-27</td>\n",
       "      <td>54</td>\n",
       "      <td>FEMALE</td>\n",
       "    </tr>\n",
       "    <tr>\n",
       "      <th>57039</th>\n",
       "      <td>2023-06-02</td>\n",
       "      <td>b6abcd53-87ec-be6a-c25f-adb88176b4d1</td>\n",
       "      <td>444814009</td>\n",
       "      <td>1963-01-27</td>\n",
       "      <td>60</td>\n",
       "      <td>FEMALE</td>\n",
       "    </tr>\n",
       "  </tbody>\n",
       "</table>\n",
       "<p>57040 rows × 6 columns</p>\n",
       "</div>"
      ],
      "text/plain": [
       "           START                               PATIENT       CODE  BIRTHDATE  \\\n",
       "0     2015-03-22  5eb0459d-b43c-be02-9ef0-e156e2077c91  195662009 2001-01-30   \n",
       "1     2016-07-19  5eb0459d-b43c-be02-9ef0-e156e2077c91   10509002 2001-01-30   \n",
       "2     2019-12-18  5eb0459d-b43c-be02-9ef0-e156e2077c91  444814009 2001-01-30   \n",
       "3     2021-11-18  5eb0459d-b43c-be02-9ef0-e156e2077c91  312608009 2001-01-30   \n",
       "4     2022-01-31  5eb0459d-b43c-be02-9ef0-e156e2077c91  307426000 2001-01-30   \n",
       "...          ...                                   ...        ...        ...   \n",
       "57035 2013-01-24  b6abcd53-87ec-be6a-c25f-adb88176b4d1   59621000 1963-01-27   \n",
       "57036 2016-01-01  b6abcd53-87ec-be6a-c25f-adb88176b4d1  125605004 1963-01-27   \n",
       "57037 2016-02-14  b6abcd53-87ec-be6a-c25f-adb88176b4d1  237602007 1963-01-27   \n",
       "57038 2017-04-02  b6abcd53-87ec-be6a-c25f-adb88176b4d1  444814009 1963-01-27   \n",
       "57039 2023-06-02  b6abcd53-87ec-be6a-c25f-adb88176b4d1  444814009 1963-01-27   \n",
       "\n",
       "       AGE     SEX  \n",
       "0       14  FEMALE  \n",
       "1       15  FEMALE  \n",
       "2       18  FEMALE  \n",
       "3       20  FEMALE  \n",
       "4       21  FEMALE  \n",
       "...    ...     ...  \n",
       "57035   49  FEMALE  \n",
       "57036   52  FEMALE  \n",
       "57037   53  FEMALE  \n",
       "57038   54  FEMALE  \n",
       "57039   60  FEMALE  \n",
       "\n",
       "[57040 rows x 6 columns]"
      ]
     },
     "execution_count": 18,
     "metadata": {},
     "output_type": "execute_result"
    }
   ],
   "source": [
    "data = data.drop(columns='GENDER')\n",
    "data"
   ]
  },
  {
   "cell_type": "markdown",
   "id": "c3776640",
   "metadata": {},
   "source": [
    "Получается таблица \"пациент-код_концепции-дата_визита-пол-возраст\""
   ]
  },
  {
   "cell_type": "code",
   "execution_count": 19,
   "id": "9058fde3",
   "metadata": {
    "scrolled": true
   },
   "outputs": [
    {
     "data": {
      "text/html": [
       "<div>\n",
       "<style scoped>\n",
       "    .dataframe tbody tr th:only-of-type {\n",
       "        vertical-align: middle;\n",
       "    }\n",
       "\n",
       "    .dataframe tbody tr th {\n",
       "        vertical-align: top;\n",
       "    }\n",
       "\n",
       "    .dataframe thead th {\n",
       "        text-align: right;\n",
       "    }\n",
       "</style>\n",
       "<table border=\"1\" class=\"dataframe\">\n",
       "  <thead>\n",
       "    <tr style=\"text-align: right;\">\n",
       "      <th></th>\n",
       "      <th>PATIENT</th>\n",
       "      <th>CODE</th>\n",
       "      <th>START</th>\n",
       "      <th>SEX</th>\n",
       "      <th>AGE</th>\n",
       "    </tr>\n",
       "  </thead>\n",
       "  <tbody>\n",
       "    <tr>\n",
       "      <th>0</th>\n",
       "      <td>5eb0459d-b43c-be02-9ef0-e156e2077c91</td>\n",
       "      <td>195662009</td>\n",
       "      <td>2015-03-22</td>\n",
       "      <td>FEMALE</td>\n",
       "      <td>14</td>\n",
       "    </tr>\n",
       "    <tr>\n",
       "      <th>1</th>\n",
       "      <td>5eb0459d-b43c-be02-9ef0-e156e2077c91</td>\n",
       "      <td>10509002</td>\n",
       "      <td>2016-07-19</td>\n",
       "      <td>FEMALE</td>\n",
       "      <td>15</td>\n",
       "    </tr>\n",
       "    <tr>\n",
       "      <th>2</th>\n",
       "      <td>5eb0459d-b43c-be02-9ef0-e156e2077c91</td>\n",
       "      <td>444814009</td>\n",
       "      <td>2019-12-18</td>\n",
       "      <td>FEMALE</td>\n",
       "      <td>18</td>\n",
       "    </tr>\n",
       "    <tr>\n",
       "      <th>3</th>\n",
       "      <td>5eb0459d-b43c-be02-9ef0-e156e2077c91</td>\n",
       "      <td>312608009</td>\n",
       "      <td>2021-11-18</td>\n",
       "      <td>FEMALE</td>\n",
       "      <td>20</td>\n",
       "    </tr>\n",
       "    <tr>\n",
       "      <th>4</th>\n",
       "      <td>5eb0459d-b43c-be02-9ef0-e156e2077c91</td>\n",
       "      <td>307426000</td>\n",
       "      <td>2022-01-31</td>\n",
       "      <td>FEMALE</td>\n",
       "      <td>21</td>\n",
       "    </tr>\n",
       "  </tbody>\n",
       "</table>\n",
       "</div>"
      ],
      "text/plain": [
       "                                PATIENT       CODE      START     SEX  AGE\n",
       "0  5eb0459d-b43c-be02-9ef0-e156e2077c91  195662009 2015-03-22  FEMALE   14\n",
       "1  5eb0459d-b43c-be02-9ef0-e156e2077c91   10509002 2016-07-19  FEMALE   15\n",
       "2  5eb0459d-b43c-be02-9ef0-e156e2077c91  444814009 2019-12-18  FEMALE   18\n",
       "3  5eb0459d-b43c-be02-9ef0-e156e2077c91  312608009 2021-11-18  FEMALE   20\n",
       "4  5eb0459d-b43c-be02-9ef0-e156e2077c91  307426000 2022-01-31  FEMALE   21"
      ]
     },
     "execution_count": 19,
     "metadata": {},
     "output_type": "execute_result"
    }
   ],
   "source": [
    "data = data[['PATIENT', 'CODE', 'START', 'SEX', 'AGE']]\n",
    "data.head()"
   ]
  },
  {
   "cell_type": "markdown",
   "id": "eb2ee036",
   "metadata": {},
   "source": [
    "Группирую записи сначала по пациенту, затем по возрасту, после -- по дате  "
   ]
  },
  {
   "cell_type": "code",
   "execution_count": 23,
   "id": "1aab97c8",
   "metadata": {},
   "outputs": [],
   "source": [
    "gb = data.groupby(['PATIENT', 'AGE'])"
   ]
  },
  {
   "cell_type": "markdown",
   "id": "7ae4fd89",
   "metadata": {},
   "source": [
    "Сохраняю в виде словаря (ключи -- пациенты, значения -- список из последовательностей концепций по визитам и список соответствующих значений возраста)"
   ]
  },
  {
   "cell_type": "code",
   "execution_count": 29,
   "id": "a7613a36-0126-476c-a328-c1951205f6f0",
   "metadata": {},
   "outputs": [
    {
     "data": {
      "text/plain": [
       "[307426000]"
      ]
     },
     "execution_count": 29,
     "metadata": {},
     "output_type": "execute_result"
    }
   ],
   "source": [
    "t = ('00024e94-ccaa-8554-8a4a-a6e25565db69', 22)\n",
    "list(data.iloc[gb.indices.get(t)]['CODE'])"
   ]
  },
  {
   "cell_type": "code",
   "execution_count": 30,
   "id": "7b2aede2",
   "metadata": {},
   "outputs": [],
   "source": [
    "d = {}\n",
    "\n",
    "for t in gb.indices.keys():\n",
    "    if t[0] not in d:\n",
    "        d[t[0]] = {}\n",
    "        d[t[0]]['input'] = []\n",
    "        d[t[0]]['age'] = []\n",
    "        d[t[0]]['input_for_tokenizer'] = []\n",
    "    \n",
    "    l = list(data.iloc[gb.indices.get(t)]['CODE'])\n",
    "    d[t[0]]['input'] = np.concatenate((d[t[0]]['input'], l, ['[SEP]']))\n",
    "    d[t[0]]['age'] = np.concatenate((d[t[0]]['age'], [str(t[1])]*(len(l)+1)))\n",
    "    d[t[0]]['input_for_tokenizer'] = np.concatenate((d[t[0]]['input_for_tokenizer'], l), dtype=str)"
   ]
  },
  {
   "cell_type": "code",
   "execution_count": 31,
   "id": "b2ce5c76",
   "metadata": {},
   "outputs": [
    {
     "data": {
      "text/plain": [
       "{'input': array(['307426000', '[SEP]', '271737000', '[SEP]', '195662009',\n",
       "        '195662009', '[SEP]', '195662009', '444814009', '[SEP]',\n",
       "        '444814009', '[SEP]'], dtype='<U32'),\n",
       " 'age': array(['22', '22', '26', '26', '28', '28', '28', '29', '29', '29', '30',\n",
       "        '30'], dtype='<U32'),\n",
       " 'input_for_tokenizer': array(['307426000', '271737000', '195662009', '195662009', '195662009',\n",
       "        '444814009', '444814009'], dtype='<U32')}"
      ]
     },
     "execution_count": 31,
     "metadata": {},
     "output_type": "execute_result"
    }
   ],
   "source": [
    "d['00024e94-ccaa-8554-8a4a-a6e25565db69']"
   ]
  },
  {
   "cell_type": "markdown",
   "id": "cee08de1",
   "metadata": {},
   "source": [
    "Убираю лишний '\\[SEP\\]' в конце для input (для возраста соответственно)"
   ]
  },
  {
   "cell_type": "code",
   "execution_count": 32,
   "id": "127ffde2",
   "metadata": {},
   "outputs": [],
   "source": [
    "for k in d.keys():\n",
    "    d[k]['input'] = list(d[k]['input'][:-1])\n",
    "    d[k]['age'] = list(np.concatenate(([d[k]['age'][0]], d[k]['age'][:-1])))\n",
    "    d[k]['input_for_tokenizer'] = list(d[k]['input_for_tokenizer'])"
   ]
  },
  {
   "cell_type": "code",
   "execution_count": 33,
   "id": "c79e2f9f",
   "metadata": {
    "scrolled": true
   },
   "outputs": [
    {
     "data": {
      "text/plain": [
       "{'input': ['307426000',\n",
       "  '[SEP]',\n",
       "  '271737000',\n",
       "  '[SEP]',\n",
       "  '195662009',\n",
       "  '195662009',\n",
       "  '[SEP]',\n",
       "  '195662009',\n",
       "  '444814009',\n",
       "  '[SEP]',\n",
       "  '444814009'],\n",
       " 'age': ['22',\n",
       "  '22',\n",
       "  '22',\n",
       "  '26',\n",
       "  '26',\n",
       "  '28',\n",
       "  '28',\n",
       "  '28',\n",
       "  '29',\n",
       "  '29',\n",
       "  '29',\n",
       "  '30'],\n",
       " 'input_for_tokenizer': ['307426000',\n",
       "  '271737000',\n",
       "  '195662009',\n",
       "  '195662009',\n",
       "  '195662009',\n",
       "  '444814009',\n",
       "  '444814009']}"
      ]
     },
     "execution_count": 33,
     "metadata": {},
     "output_type": "execute_result"
    }
   ],
   "source": [
    "d['00024e94-ccaa-8554-8a4a-a6e25565db69']"
   ]
  },
  {
   "cell_type": "code",
   "execution_count": 35,
   "id": "ece706a7",
   "metadata": {},
   "outputs": [],
   "source": [
    "with open('input_6.txt', 'w') as outfile:\n",
    "    for k in d.keys():\n",
    "        outfile.write(' '.join(d[k]['input']))\n",
    "        outfile.write('\\n')"
   ]
  },
  {
   "cell_type": "code",
   "execution_count": 36,
   "id": "c95934a0",
   "metadata": {},
   "outputs": [],
   "source": [
    "with open('input_for_tokenizer_6.txt', 'w') as outfile:\n",
    "    for k in d.keys():\n",
    "        outfile.write(' '.join(d[k]['input_for_tokenizer']))\n",
    "        outfile.write('\\n')"
   ]
  },
  {
   "cell_type": "code",
   "execution_count": null,
   "id": "9528774d-edd2-4588-a29c-4fbeb4095fe0",
   "metadata": {},
   "outputs": [],
   "source": []
  },
  {
   "cell_type": "markdown",
   "id": "6b18ae9c-985b-4951-bb99-d4e07d32549f",
   "metadata": {},
   "source": [
    "### Распределение диагнозов в датасете"
   ]
  },
  {
   "cell_type": "code",
   "execution_count": 24,
   "id": "ac625330-3596-4916-ba8d-f5b3cb92e882",
   "metadata": {},
   "outputs": [],
   "source": [
    "codes_list = data['CODE']\n",
    "codes_list"
   ]
  },
  {
   "cell_type": "code",
   "execution_count": 28,
   "id": "b8a857d4-0267-4dc0-91cf-cc7d294cbe8d",
   "metadata": {},
   "outputs": [
    {
     "data": {
      "text/plain": [
       "118"
      ]
     },
     "execution_count": 28,
     "metadata": {},
     "output_type": "execute_result"
    }
   ],
   "source": [
    "import numpy as np\n",
    "from sklearn.utils.class_weight import compute_class_weight\n",
    "\n",
    "weights = compute_class_weight('balanced', \n",
    "                     classes=np.unique(codes_list), \n",
    "                     y=np.array(codes_list))\n",
    "len(weights)"
   ]
  },
  {
   "cell_type": "code",
   "execution_count": 29,
   "id": "62dde760-9397-4b45-8a26-eb7acadc2bfd",
   "metadata": {},
   "outputs": [
    {
     "data": {
      "text/plain": [
       "array([2.01412429e+01, 4.27778611e+00, 1.05774580e+00, 1.21760663e-01,\n",
       "       9.66779661e+01, 2.06576851e+00, 1.85919166e+00, 2.30185634e+01,\n",
       "       9.06922759e-01, 9.55315871e-01, 2.43766934e-01, 2.84346959e+01,\n",
       "       4.74842663e-01, 5.96777569e-01, 1.35783660e+00, 3.45278450e+01,\n",
       "       1.15092817e+01, 6.04237288e+00, 1.61129944e+02, 3.22259887e+01,\n",
       "       2.54415700e+01, 1.33828857e-01, 1.09861325e+01, 5.43134641e+00,\n",
       "       1.61129944e+02, 8.05649718e+01, 1.01766280e+00, 5.14244501e+00,\n",
       "       7.79661017e+00, 2.96558178e+00, 9.18992073e-01, 6.04237288e+00,\n",
       "       4.83389831e+02, 1.41342056e+00, 8.05649718e+01, 1.18188223e+00,\n",
       "       3.71838331e+01, 2.84346959e+01, 4.39445300e+01, 2.54415700e+01,\n",
       "       2.62711864e+00, 6.04237288e+01, 2.00576693e+00, 1.32799404e+00,\n",
       "       1.49656294e+00, 8.05649718e+01, 4.83389831e+02, 2.87732042e+00,\n",
       "       8.04309202e-01, 2.01412429e+01, 4.83389831e+02, 1.20847458e+02,\n",
       "       2.40492453e+00, 4.20704813e-01, 2.67806000e-01, 8.05649718e+01,\n",
       "       1.17899959e+01, 6.04237288e+01, 2.23791588e+00, 1.47374948e+00,\n",
       "       6.90556901e+01, 2.41694915e+02, 4.24026167e+00, 5.03531073e+00,\n",
       "       9.91975848e-02, 1.10869227e+00, 2.76222760e+00, 1.61129944e+02,\n",
       "       9.86509858e+00, 9.47823197e+00, 2.10169492e+00, 2.84346959e+01,\n",
       "       1.34274953e+01, 2.25461675e-01, 3.22259887e+01, 4.83389831e+00,\n",
       "       2.91198693e+00, 2.68549906e+01, 2.41694915e+02, 1.43823216e-01,\n",
       "       4.83389831e+02, 4.83389831e+02, 1.34274953e+01, 6.04993530e-01,\n",
       "       4.96293460e-01, 2.10169492e+01, 4.37061330e-01, 2.84346959e+01,\n",
       "       1.02848900e+01, 2.39301896e+00, 2.77810247e+00, 1.67843691e+00,\n",
       "       2.59887006e+00, 4.83389831e+02, 2.61716205e-01, 2.34655258e+00,\n",
       "       4.88272556e+00, 7.92442345e+00, 2.98942381e-01, 3.38983051e-01,\n",
       "       7.67285445e-01, 4.72984179e-01, 3.09865276e+00, 5.58122423e-02,\n",
       "       4.83389831e+02, 7.43676662e+00, 4.83389831e+02, 6.04237288e+00,\n",
       "       1.85919166e+01, 4.16715371e+00, 2.41694915e+02, 3.22259887e+01,\n",
       "       3.05556151e-01, 1.46481767e+01, 4.83389831e+02, 6.04237288e+00,\n",
       "       3.97851712e-01, 2.22760291e+00])"
      ]
     },
     "execution_count": 29,
     "metadata": {},
     "output_type": "execute_result"
    }
   ],
   "source": [
    "weights"
   ]
  },
  {
   "cell_type": "code",
   "execution_count": 30,
   "id": "8d9332b0-5b7d-405a-b459-693ddb113133",
   "metadata": {},
   "outputs": [
    {
     "data": {
      "text/plain": [
       "array([        4557003,         5602001,         6525002,        10509002,\n",
       "              15802004,        22298006,        26929004,        27942005,\n",
       "              36971009,        39898005,        40055000,        40095003,\n",
       "              43878008,        44054006,        46177005,        47505003,\n",
       "              48724000,        49436004,        49915006,        53827007,\n",
       "              56786000,        59621000,        60234000,        60573004,\n",
       "              61977001,        62479008,        64859006,        65710008,\n",
       "              67782005,        73430006,        75498004,        76571007,\n",
       "              76916001,        78275009,        79619009,        80394007,\n",
       "              84114007,        84757009,        86175003,        86406008,\n",
       "              87433001,        87628006,        88805009,        90460009,\n",
       "              91302008,        91434003,        91861009,        92691004,\n",
       "             110030002,       110359009,       111282000,       111287006,\n",
       "             125601008,       125605004,       127013003,       127295002,\n",
       "             128188000,       128302006,       128613002,       156073000,\n",
       "             157265008,       171131006,       185086009,       192127007,\n",
       "             195662009,       197927001,       203082005,       204949001,\n",
       "             213150003,       230265002,       233604007,       234466008,\n",
       "             235595009,       237602007,       254632001,       254637007,\n",
       "             254837009,       262521009,       267064002,       271737000,\n",
       "             275408006,       278365007,       283545005,       302870006,\n",
       "             307426000,       312157006,       312608009,       314994000,\n",
       "             370143000,       389087006,       401303003,       401314000,\n",
       "             403190006,       409089005,       414545008,       422034002,\n",
       "             424132000,       427419006,       431855005,       431856006,\n",
       "             431857002,       433144002,       443165006,       444814009,\n",
       "             448813005,       706870000,       707418001,       770349000,\n",
       "         1501000119109,   1551000119108,  60951000119105,  67811000119102,\n",
       "        90781000119102,  97331000119101, 129721000119106, 132281000119108,\n",
       "       157141000119108, 368581000119106])"
      ]
     },
     "execution_count": 30,
     "metadata": {},
     "output_type": "execute_result"
    }
   ],
   "source": [
    "np.unique(codes_list)"
   ]
  },
  {
   "cell_type": "code",
   "execution_count": null,
   "id": "3ecf546b-223a-4d6a-ab86-4fc9407db2fb",
   "metadata": {},
   "outputs": [],
   "source": []
  }
 ],
 "metadata": {
  "kernelspec": {
   "display_name": "Python 3 (ipykernel)",
   "language": "python",
   "name": "python3"
  },
  "language_info": {
   "codemirror_mode": {
    "name": "ipython",
    "version": 3
   },
   "file_extension": ".py",
   "mimetype": "text/x-python",
   "name": "python",
   "nbconvert_exporter": "python",
   "pygments_lexer": "ipython3",
   "version": "3.10.12"
  }
 },
 "nbformat": 4,
 "nbformat_minor": 5
}
