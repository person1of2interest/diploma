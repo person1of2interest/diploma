{
 "cells": [
  {
   "cell_type": "code",
   "execution_count": 2,
   "metadata": {
    "id": "Bqj98_XhlA8j"
   },
   "outputs": [],
   "source": [
    "from tokenizers import Tokenizer\n",
    "from tokenizers.models import WordLevel\n",
    "from tokenizers.normalizers import Strip\n",
    "from tokenizers.pre_tokenizers import Whitespace\n",
    "from tokenizers.trainers import WordLevelTrainer\n",
    "from tokenizers.processors import BertProcessing"
   ]
  },
  {
   "cell_type": "code",
   "execution_count": 3,
   "metadata": {
    "id": "LaSE47MTkIra"
   },
   "outputs": [],
   "source": [
    "tokenizer = Tokenizer(WordLevel(unk_token='[UNK]'))\n",
    "\n",
    "trainer = WordLevelTrainer(\n",
    "    vocab_size=300,\n",
    "    show_progress=True,\n",
    "    special_tokens=['[UNK]', '[PAD]', '[CLS]', '[SEP]', '[MASK]']\n",
    ")\n",
    "\n",
    "tokenizer.normalizer = Strip()\n",
    "tokenizer.pre_tokenizer = Whitespace()"
   ]
  },
  {
   "cell_type": "code",
   "execution_count": 4,
   "metadata": {
    "id": "pVSQbVPKlXje"
   },
   "outputs": [],
   "source": [
    "files = ['input_for_tokenizer_new.txt']\n",
    "\n",
    "tokenizer.train(files, trainer)"
   ]
  },
  {
   "cell_type": "code",
   "execution_count": 5,
   "metadata": {
    "id": "WTPDrmY03a-L"
   },
   "outputs": [],
   "source": [
    "tokenizer.post_processor = BertProcessing(('[SEP]', tokenizer.token_to_id('[SEP]')),\n",
    "                                          ('[CLS]', tokenizer.token_to_id('[CLS]')))"
   ]
  },
  {
   "cell_type": "code",
   "execution_count": 6,
   "metadata": {
    "colab": {
     "base_uri": "https://localhost:8080/"
    },
    "id": "fmZvp8tBlkGB",
    "outputId": "6233bae3-3bd0-4f4b-f60b-2c15a669c468"
   },
   "outputs": [
    {
     "data": {
      "text/plain": [
       "[2, 0, 0, 5, 17, 0, 3]"
      ]
     },
     "execution_count": 6,
     "metadata": {},
     "output_type": "execute_result"
    }
   ],
   "source": [
    "s = '80583007 160968000 444814009 312608009 283385000'\n",
    "\n",
    "tokenizer.encode(s).ids"
   ]
  },
  {
   "cell_type": "code",
   "execution_count": 7,
   "metadata": {
    "colab": {
     "base_uri": "https://localhost:8080/",
     "height": 35
    },
    "id": "pTB0MfzplsB6",
    "outputId": "764ba985-5479-426c-8d88-f5739e20925f"
   },
   "outputs": [
    {
     "data": {
      "application/vnd.google.colaboratory.intrinsic+json": {
       "type": "string"
      },
      "text/plain": [
       "'444814009 312608009'"
      ]
     },
     "execution_count": 7,
     "metadata": {},
     "output_type": "execute_result"
    }
   ],
   "source": [
    "tokenizer.decode(tokenizer.encode(s).ids)"
   ]
  },
  {
   "cell_type": "code",
   "execution_count": 8,
   "metadata": {
    "id": "bxsNEwnKpH7G"
   },
   "outputs": [],
   "source": [
    "tokenizer.save('word_level_tokenizer_new.json')"
   ]
  },
  {
   "cell_type": "code",
   "execution_count": 8,
   "metadata": {
    "id": "q1E2ReTwqg_Y"
   },
   "outputs": [],
   "source": []
  }
 ],
 "metadata": {
  "colab": {
   "provenance": []
  },
  "kernelspec": {
   "display_name": "Python 3 (ipykernel)",
   "language": "python",
   "name": "python3"
  },
  "language_info": {
   "codemirror_mode": {
    "name": "ipython",
    "version": 3
   },
   "file_extension": ".py",
   "mimetype": "text/x-python",
   "name": "python",
   "nbconvert_exporter": "python",
   "pygments_lexer": "ipython3",
   "version": "3.10.12"
  }
 },
 "nbformat": 4,
 "nbformat_minor": 4
}
